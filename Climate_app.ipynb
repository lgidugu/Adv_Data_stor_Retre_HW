{
 "cells": [
  {
   "cell_type": "code",
   "execution_count": 1,
   "metadata": {},
   "outputs": [],
   "source": [
    "import datetime as dt\n",
    "import numpy as np\n",
    "import pandas as pd\n",
    "\n",
    "import sqlalchemy\n",
    "from sqlalchemy.ext.automap import automap_base\n",
    "from sqlalchemy.orm import Session\n",
    "from sqlalchemy import create_engine, func\n",
    "\n",
    "from flask import Flask, jsonify"
   ]
  },
  {
   "cell_type": "code",
   "execution_count": 2,
   "metadata": {},
   "outputs": [],
   "source": [
    "#################################################\n",
    "# Database Setup\n",
    "#################################################\n",
    "engine = create_engine(\"sqlite:///hawaii.sqlite\")\n",
    "\n",
    "# reflect an existing database into a new model\n",
    "Base = automap_base()\n",
    "# reflect the tables\n",
    "Base.prepare(engine, reflect=True)\n",
    "\n",
    "# Save reference to the table\n",
    "Measurement = Base.classes.measurements\n",
    "Station = Base.classes.stations\n",
    "\n",
    "# Create our session (link) from Python to the DB\n",
    "session = Session(engine)"
   ]
  },
  {
   "cell_type": "code",
   "execution_count": 3,
   "metadata": {},
   "outputs": [],
   "source": [
    "latest_date= session.query(Measurement.date).order_by(Measurement.date.desc()).first()"
   ]
  },
  {
   "cell_type": "code",
   "execution_count": 9,
   "metadata": {},
   "outputs": [],
   "source": [
    "start_date = dt.datetime(2017, 1, 1)\n",
    "end_date = dt.datetime(2018, 1, 1)\n",
    "calc_temps = session.query(func.max(Measurement.tobs), func.avg(Measurement.tobs), func.min(Measurement.tobs)).\\\n",
    "                           filter(Measurement.date > start_date).filter(Measurement.date < end_date).all()\n",
    "calc_temps_start = session.query(func.max(Measurement.tobs), func.avg(Measurement.tobs), func.min(Measurement.tobs)).\\\n",
    "                           filter(Measurement.date > start_date).all() "
   ]
  },
  {
   "cell_type": "code",
   "execution_count": null,
   "metadata": {},
   "outputs": [
    {
     "name": "stderr",
     "output_type": "stream",
     "text": [
      " * Running on http://127.0.0.1:5000/ (Press CTRL+C to quit)\n",
      "127.0.0.1 - - [12/May/2018 07:19:18] \"GET / HTTP/1.1\" 200 -\n",
      "127.0.0.1 - - [12/May/2018 07:19:28] \"GET /api/v1.0/start HTTP/1.1\" 200 -\n"
     ]
    }
   ],
   "source": [
    "#################################################\n",
    "# Flask Setup\n",
    "#################################################\n",
    "app = Flask(__name__)\n",
    "\n",
    "\n",
    "#################################################\n",
    "# Flask Routes\n",
    "#################################################\n",
    "\n",
    "@app.route(\"/\")\n",
    "def welcome():\n",
    "    \"\"\"List all available api routes.\"\"\"\n",
    "    return (\n",
    "        f\"Available Routes:<br/>\"\n",
    "        f\"/api/v1.0/precipitation<br/>\"\n",
    "        f\"/api/v1.0/stations<br/>\"\n",
    "        f\"/api/v1.0/tobs<br/>\"\n",
    "        f\"/api/v1.0/startend<br/>\"\n",
    "        f\"/api/v1.0/start<br/>\"\n",
    "    )\n",
    "@app.route(\"/api/v1.0/precipitation\")\n",
    "def precipitation():\n",
    "    \"\"\"Return available last year precipitation data for Honolulu\"\"\"\n",
    "    # Query date and tobs\n",
    "    results = session.query(Measurement.date, Measurement.prcp).filter(Measurement.date >'2014-04-30').filter(Measurement.date <'2015-10-30').\\\n",
    "    order_by(Measurement.date.desc()).filter(Measurement.station =='USC00511918').all()\n",
    "\n",
    "\n",
    "    # Convert list of tuples into normal list\n",
    "    precipitation_data = list(np.ravel(results))\n",
    "\n",
    "    return jsonify(precipitation_data)\n",
    "\n",
    "@app.route(\"/api/v1.0/stations\")\n",
    "def station():\n",
    "    \"\"\"Return a list of all stations names\"\"\"\n",
    "    # Query all station names\n",
    "    results = session.query(Station.station, Station.name).group_by(Station.station).all()  \n",
    "\n",
    "\n",
    "    # Convert list of tuples into normal list\n",
    "    stations_data = list(np.ravel(results))\n",
    "\n",
    "    return jsonify(stations_data)\n",
    "\n",
    "\n",
    "\n",
    "@app.route(\"/api/v1.0/tobs\")\n",
    "def tobs():\n",
    "    \"\"\"Return a tobs for previous year\"\"\"\n",
    "    # Query all tobs for last year\n",
    "    results = session.query(Measurement.station,Measurement.tobs).filter(Measurement.date <'2017-08-23').filter(Measurement.date >'2016-07-23').all()\n",
    "\n",
    "\n",
    "    # Convert list of tuples into normal list\n",
    "    tobs_data = list(np.ravel(results))\n",
    "\n",
    "    return jsonify(tobs_data)\n",
    "\n",
    "\n",
    "#To convert Date:\n",
    "#Date 12 months ago\n",
    "y = int(latest_date[0][:4])\n",
    "m = int(latest_date[0][5:7])\n",
    "d = int(latest_date[0][8:10])\n",
    "\n",
    "start_date = dt.date(y, m, d) - dt.timedelta(days = 365)\n",
    "\n",
    "@app.route(\"/api/v1.0/startend\")\n",
    "def tempstartend():\n",
    "\n",
    "    calc_temps = session.query(func.max(Measurement.tobs), func.avg(Measurement.tobs), func.min(Measurement.tobs)).\\\n",
    "                           filter(Measurement.date > start_date).filter(Measurement.date < end_date).all()\n",
    "    temp_ranges = list(np.ravel(calc_temps))\n",
    "\n",
    "    return jsonify(temp_ranges)\n",
    "\n",
    "\n",
    "\n",
    "@app.route(\"/api/v1.0/start\")\n",
    "def tempstart():\n",
    "\n",
    "    calc_temps_start = session.query(func.max(Measurement.tobs), func.avg(Measurement.tobs), func.min(Measurement.tobs)).\\\n",
    "                           filter(Measurement.date > start_date).all()\n",
    "    start_temp_ranges = list(np.ravel(calc_temps_start))\n",
    "    \n",
    "    return jsonify(start_temp_ranges)\n",
    "\n",
    "\n",
    "\n",
    "if __name__ == '__main__':\n",
    "    app.run(debug=False)"
   ]
  },
  {
   "cell_type": "code",
   "execution_count": null,
   "metadata": {},
   "outputs": [],
   "source": []
  }
 ],
 "metadata": {
  "kernelspec": {
   "display_name": "Python 3",
   "language": "python",
   "name": "python3"
  },
  "language_info": {
   "codemirror_mode": {
    "name": "ipython",
    "version": 3
   },
   "file_extension": ".py",
   "mimetype": "text/x-python",
   "name": "python",
   "nbconvert_exporter": "python",
   "pygments_lexer": "ipython3",
   "version": "3.6.4"
  }
 },
 "nbformat": 4,
 "nbformat_minor": 2
}
